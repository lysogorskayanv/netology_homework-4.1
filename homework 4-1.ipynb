{
 "cells": [
  {
   "cell_type": "code",
   "execution_count": 16,
   "metadata": {},
   "outputs": [],
   "source": [
    "import pandas as pd\n",
    "import numpy\n",
    "import matplotlib.pyplot as plt\n",
    "import os\n",
    "\n",
    "\n",
    "DATA_PATH = \"C:\\\\Users\\\\Emberiza\\\\Desktop\\\\names\""
   ]
  },
  {
   "cell_type": "code",
   "execution_count": 38,
   "metadata": {},
   "outputs": [],
   "source": [
    "#Задача 1\n",
    "def count_top_3(years):\n",
    "    years_to_concat = []\n",
    "    for year in years:\n",
    "        result = pd.read_csv(os.path.join(DATA_PATH + \"\\\\yob\" + year + \".txt\"),\n",
    "                                names = [\"Name\", \"Gender\", \"Count\"]\n",
    "                                )\n",
    "        years_to_concat.append(result)\n",
    "    all_years = pd.concat(years_to_concat).groupby(\"Name\").sum().sort_values(by='Count', ascending=False).head(3).reset_index()\n",
    "    top_names = list(all_years[\"Name\"])\n",
    "    print(top_names)"
   ]
  },
  {
   "cell_type": "code",
   "execution_count": 40,
   "metadata": {},
   "outputs": [
    {
     "name": "stdout",
     "output_type": "stream",
     "text": [
      "['John', 'James', 'Mary']\n"
     ]
    }
   ],
   "source": [
    "count_top_3([\"1915\", \"1945\", \"2001\"])"
   ]
  },
  {
   "cell_type": "code",
   "execution_count": 36,
   "metadata": {},
   "outputs": [],
   "source": [
    "#Задача 2\n",
    "def count_dynamics(years):\n",
    "    for year in years:\n",
    "        result = pd.read_csv(os.path.join(DATA_PATH + \"\\\\yob\" + year + \".txt\"),\n",
    "                                names = ['Name', 'Gender', 'Count']\n",
    "                            )\n",
    "        male_names = result[result.Gender=='M'].Count.sum()\n",
    "        female_names = result[result.Gender=='F'].Count.sum()\n",
    "        print(\"Количество мужских имен в {} году: {}\".format(year, male_names))\n",
    "        print(\"Количество женских имен в {} году: {}\".format(year, female_names))\n",
    "        print(\"------------------\")"
   ]
  },
  {
   "cell_type": "code",
   "execution_count": 37,
   "metadata": {},
   "outputs": [
    {
     "name": "stdout",
     "output_type": "stream",
     "text": [
      "Количество мужских имен в 1900 году: 150486\n",
      "Количество женских имен в 1900 году: 299810\n",
      "------------------\n",
      "Количество мужских имен в 1901 году: 106470\n",
      "Количество женских имен в 1901 году: 239347\n",
      "------------------\n",
      "Количество мужских имен в 1902 году: 122659\n",
      "Количество женских имен в 1902 году: 264076\n",
      "------------------\n"
     ]
    }
   ],
   "source": [
    "count_dynamics([\"1900\", \"1901\", \"1902\"])"
   ]
  },
  {
   "cell_type": "code",
   "execution_count": null,
   "metadata": {},
   "outputs": [],
   "source": []
  },
  {
   "cell_type": "code",
   "execution_count": null,
   "metadata": {},
   "outputs": [],
   "source": []
  },
  {
   "cell_type": "code",
   "execution_count": null,
   "metadata": {},
   "outputs": [],
   "source": []
  },
  {
   "cell_type": "code",
   "execution_count": null,
   "metadata": {},
   "outputs": [],
   "source": []
  }
 ],
 "metadata": {
  "kernelspec": {
   "display_name": "Python 3",
   "language": "python",
   "name": "python3"
  },
  "language_info": {
   "codemirror_mode": {
    "name": "ipython",
    "version": 3
   },
   "file_extension": ".py",
   "mimetype": "text/x-python",
   "name": "python",
   "nbconvert_exporter": "python",
   "pygments_lexer": "ipython3",
   "version": "3.6.4"
  }
 },
 "nbformat": 4,
 "nbformat_minor": 2
}
