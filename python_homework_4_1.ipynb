{
 "cells": [
  {
   "cell_type": "code",
   "execution_count": 1,
   "metadata": {
    "collapsed": true
   },
   "outputs": [],
   "source": [
    "import pandas as pandas\n",
    "import numpy\n",
    "import matplotlib.pyplot as plt\n",
    "import os\n",
    "\n",
    "DATA_PATH = os.path.join(\"names\")"
   ]
  },
  {
   "cell_type": "markdown",
   "metadata": {
    "collapsed": true,
    "scrolled": false
   },
   "source": [
    "##Задача 1"
   ]
  },
  {
   "cell_type": "code",
   "execution_count": 167,
   "metadata": {},
   "outputs": [],
   "source": [
    "def count_top_3(years):\n",
    "    years_to_concat = []\n",
    "    for year in years:\n",
    "        result = pandas.read_csv(DATA_PATH + \"/yob\" + year + \".txt\",\n",
    "                                names = [\"Name\", \"Gender\", \"Count\"])\n",
    "        years_to_concat.append(result)\n",
    "    all_years = pandas.concat(years_to_concat).groupby(\"Name\").sum().sort_values(by='Count', ascending=False).head(3).reset_index()\n",
    "    top_names = list(all_years[\"Name\"])\n",
    "    print(top_names)"
   ]
  },
  {
   "cell_type": "code",
   "execution_count": 171,
   "metadata": {},
   "outputs": [
    {
     "name": "stdout",
     "output_type": "stream",
     "text": [
      "['James', 'John', 'Robert']\n"
     ]
    }
   ],
   "source": [
    "count_top_3([\"1880\", \"1940\", \"2000\"])"
   ]
  },
  {
   "cell_type": "code",
   "execution_count": null,
   "metadata": {
    "collapsed": true
   },
   "outputs": [],
   "source": []
  },
  {
   "cell_type": "markdown",
   "metadata": {
    "collapsed": true
   },
   "source": [
    "##Задача 2"
   ]
  },
  {
   "cell_type": "code",
   "execution_count": 170,
   "metadata": {
    "collapsed": true
   },
   "outputs": [],
   "source": [
    "def count_dynamics(years):\n",
    "    for year in years:\n",
    "        result = pandas.read_csv(DATA_PATH + \"/yob\" + year + \".txt\",\n",
    "                                names = ['Name', 'Gender', 'Count'])\n",
    "        male_names = result[result.Gender=='M'].Count.sum()\n",
    "        female_names = result[result.Gender=='F'].Count.sum()\n",
    "        print(\"Количество мужских имен в {} году: {}\".format(year, male_names))\n",
    "        print(\"Количество женских имен в {} году: {}\".format(year, female_names))\n",
    "        print(\"------------------\")"
   ]
  },
  {
   "cell_type": "code",
   "execution_count": 68,
   "metadata": {},
   "outputs": [
    {
     "name": "stdout",
     "output_type": "stream",
     "text": [
      "Количество мужских имен в 1900 году: 150486\n",
      "Количество женских имен в 1900 году: 299810\n",
      "------------------\n",
      "Количество мужских имен в 1910 году: 194215\n",
      "Количество женских имен в 1910 году: 396502\n",
      "------------------\n",
      "Количество мужских имен в 1920 году: 1064417\n",
      "Количество женских имен в 1920 году: 1198288\n",
      "------------------\n",
      "Количество мужских имен в 1930 году: 1097258\n",
      "Количество женских имен в 1930 году: 1125853\n",
      "------------------\n",
      "Количество мужских имен в 1940 году: 1158975\n",
      "Количество женских имен в 1940 году: 1143386\n",
      "------------------\n",
      "Количество мужских имен в 1950 году: 1790871\n",
      "Количество женских имен в 1950 году: 1713259\n",
      "------------------\n"
     ]
    }
   ],
   "source": [
    "count_dynamics([\"1900\", \"1910\", \"1920\", \"1930\", \"1940\", \"1950\"])"
   ]
  },
  {
   "cell_type": "code",
   "execution_count": null,
   "metadata": {
    "collapsed": true
   },
   "outputs": [],
   "source": []
  }
 ],
 "metadata": {
  "kernelspec": {
   "display_name": "Python 3",
   "language": "python",
   "name": "python3"
  },
  "language_info": {
   "codemirror_mode": {
    "name": "ipython",
    "version": 3
   },
   "file_extension": ".py",
   "mimetype": "text/x-python",
   "name": "python",
   "nbconvert_exporter": "python",
   "pygments_lexer": "ipython3",
   "version": "3.6.1"
  }
 },
 "nbformat": 4,
 "nbformat_minor": 2
}
